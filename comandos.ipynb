{
 "cells": [
  {
   "attachments": {},
   "cell_type": "markdown",
   "metadata": {},
   "source": [
    "# instalar cookiecutter\n",
    "\n",
    "\n",
    "* conda config --add channels conda-forge\n",
    "\n",
    "* conda create --name cookiecutter-personal cookiecutter=1.7.3\n",
    "\n",
    "* conda activate cookiecutter\n",
    "\n",
    "* conda env export --from-history --file environment.yml\n",
    "\n",
    "* cookiecutter https://github.com/platzi/curso-entorno-avanzado-ds --checkout cookiecutter-personal-platzi\n",
    "\n",
    "    - You've downloaded C:\\Users\\kaleb\\.cookiecutters\\curso-entorno-avanzado-ds b\n",
    "    efore. Is it okay to delete and re-download it? [yes]: yes\n",
    "    - project_name [Cookiecutter Personal]: cookiecutter testing\n",
    "    - project_slug [cookiecutter_testing]:\n",
    "    - project_author_name [Your name (or your                   organization/company/team)]: kalebs\n",
    "    ampaco\n",
    "    - project_author_email [Yout email (or your organization/company/team)]:\n",
    "    - project_description [A short description of the project.]: prueba de ejerci\n",
    "    cios cookiecutter\n",
    "    - Select project_packages:\n",
    "    1 - All\n",
    "    2 - Minimal\n",
    "    - Choose from 1, 2 [1]: 1\n",
    "    - python_version [3.7]:\n",
    "    - project_version [0.1.0]:"
   ]
  },
  {
   "attachments": {},
   "cell_type": "markdown",
   "metadata": {},
   "source": [
    "# Crear plantillas de proyecto personalizadas\n",
    "\n",
    "* Se crea una carpeta y dentro se escribe la sintaxis de jinja\n",
    "  - {{ cookiecutter.project_slug }} \n",
    "* Se puede crear dentro de esta carpeta un README.md revizar código de variables de cookiecutter\n",
    "* una carpeta de datos (data)\n",
    "* crear archivo environment.yml, ver configuración del archivo\n",
    "  * # conda env create --file environment.yml\n",
    "    name: {{ cookiecutter.project_slug }}\n",
    "    channels:\n",
    "    - anaconda\n",
    "    - conda-forge\n",
    "    - defaults\n",
    "    dependencies:\n",
    "    {% if cookiecutter.project_packages == \"All\" -%}\n",
    "    - fs\n",
    "    - jupyter\n",
    "    - jupyterlab\n",
    "    - pathlib\n",
    "    {% endif -%}\n",
    "    - pip\n",
    "    {% if cookiecutter.project_packages == \"All\" -%}\n",
    "    - pyprojroot\n",
    "    {% endif -%}\n",
    "    - python={{ cookiecutter.python_version }}\n",
    "    - pip:\n",
    "        {% if cookiecutter.project_packages == \"All\" -%}\n",
    "        - pyhere\n",
    "        {% endif -%}\n",
    "\n",
    "* se el archivo cookiecutter.json con los siguientes datos\n",
    "  * {\n",
    "        \"project_title\": \"Cookiecutter Personal\",\n",
    "        \"project_slug\": \"{{ coockiecutter.project_title.lower().replace(\" \", \"_\").replace(\"-\", \"_\") }}\",\n",
    "        \"project_description\": \"Tu primer proyecto con Cookiecutter.\",\n",
    "        \"project_author_name\": \"Tu nombre\",\n",
    "        \"project_packages\": [\"All, Minimal\"],\n",
    "        \"python_version\": \"3.7\"\n",
    "    }\n",
    "\n",
    "* finalmente en la terminal se digita\n",
    "  * conda activate cookiecutter-personal\n",
    "  * cookiecutter .  #Para correr la plantilla que se tiene en el lugar en el que esta ubicado\n",
    "\n"
   ]
  },
  {
   "attachments": {},
   "cell_type": "markdown",
   "metadata": {},
   "source": [
    "## "
   ]
  },
  {
   "attachments": {},
   "cell_type": "markdown",
   "metadata": {},
   "source": [
    "# Implementar hooks\n",
    "\n",
    "* Se crea la carpeta “hooks”, adentro de la carpeta principal de tu proyecto.\n",
    "* Dentro de la carpeta se agregan los archivos “pre_gen_project.py” (lo que se ejecuta antes de generar la plantilla) y “pos_gen_project.py” (lo que se ejecuta después de generar la plantilla).\n",
    "\n",
    "\n",
    "Por ejemplo, en “pre_gen_project.py” se puede inicializar git o validar nombres y archivos para evitar errores.\n",
    "\n",
    "En el archivo “pos_gen_project.py” se puede hacer el primer commit en git o mostrar la finalización de la instalación de dependencias."
   ]
  },
  {
   "attachments": {},
   "cell_type": "markdown",
   "metadata": {},
   "source": [
    "# Distribución de tu plantilla (GitHub)\n",
    "\n",
    "* Crea un nuevo repositorio vacío en GitHub. Puedes no agregar ninguna información sobre tu repositorio por el momento.\n",
    "  \n",
    "* Dentro de la carpeta que contiene tu proyecto inicializa git y haz tu primer commit:\n",
    "\n",
    "    * git init .\n",
    "    * git add .\n",
    "    * git commit -m \"Initial commit\"\n",
    "* Ahora, para subir a GitHub tu proyecto, ejecuta lo siguiente:\n",
    "    * git remote add origin https://github.com/kalebsampaco/cookiecutter-personal\n",
    "    * git branch -M main\n",
    "    * git push -u origin main\n",
    "\n",
    "* No olvides eliminar cualquier carpeta innecesaria (por ejemplo, la carpeta que se genera cuando ejecutas Coockiecutter).\n",
    "* Para evitar que git ignore las carpetas vacías, agrega un archivo “.gitkeep” dentro de cada carpeta vacía.\n",
    "\n",
    "* cookiecutter https://github.com/kalebsampaco/cookiecutter-personal --checkout cookiecutter-personal\n"
   ]
  },
  {
   "attachments": {},
   "cell_type": "markdown",
   "metadata": {},
   "source": [
    "# Solución al manejo de rutas\n",
    "\n",
    "Esto hace que, cuando inicies un nuevo proyecto, tengas que hacerte varias preguntas, por ejemplo:\n",
    "\n",
    "* ¿Habrá más personas involucradas?\n",
    "* ¿Habrá más de un ordenador involucrado?\n",
    "* ¿Cuál será la ubicación del proyecto, dentro del sistema de archivos de cada ordenador?\n",
    "* ¿Cómo se vería afectado un proyecto si reestructuras su contenido, en una fase intermedia de desarrollo?\n",
    "\n",
    "Deberías poder trabajar en tu proyecto y no tener que preocuparte por nada más que eso.\n",
    "\n",
    "\n",
    "cookiecutter https://github.com/platzi/curso-entorno-avanzado-ds --checkout cookiecutter-personal-platzi\n",
    "\n",
    "\n",
    "ir dentro del archivo environment.yml del proyecto y correr el comando conda env create --file environment.yml\n",
    "\n",
    "* Crear la ruta “./data/raw/” independiente del sistema operativo. En este caso usaremos os, un módulo de Python que sirve para manejar rutas."
   ]
  },
  {
   "cell_type": "code",
   "execution_count": null,
   "metadata": {},
   "outputs": [],
   "source": [
    "import os\n",
    "#\n",
    "CURRENT_DIR = os.getcwd() # Retrieve current directory\n",
    "\n",
    "print(type(CURRENT_DIR))\n",
    "\n",
    "print(os.path.abspath(os.path.join(CURRENT_DIR, os.pardir))) # parent directory...\n",
    "DATA_DIR = os.path.join(CURRENT_DIR, os.pardir, \"data/\") # os.pardir: ..\n",
    "\n",
    "print(DATA_DIR)\n",
    "print(os.path.exists(DATA_DIR))\n",
    "print(os.path.isdir(DATA_DIR))\n",
    "#\n",
    "\n",
    "[os.path.join(DATA_DIR, item) for item in os.listdir(DATA_DIR)]\n",
    "\n",
    "#\n",
    "os.mkdir(os.path.join(DATA_DIR, \"external_os\"))\n",
    "\n",
    "# \n",
    "os.makedirs(os.path.join(DATA_DIR, \"external_os\", \"os\", \"nested\"))"
   ]
  },
  {
   "attachments": {},
   "cell_type": "markdown",
   "metadata": {},
   "source": [
    "Crear la ruta “./data/raw/” independiente del sistema operativo. Ahora usaremos pathlib, otro módulo de Python."
   ]
  },
  {
   "cell_type": "code",
   "execution_count": null,
   "metadata": {},
   "outputs": [],
   "source": [
    "import pathlib\n",
    "\n",
    "pathlib.Path()  # Genera un objeto Unix Path o \n",
    "\n",
    "CURRENT_DIR = pathlib.Path().resolve()  # Path local completo\n",
    "DATA_DIR = CURRENT_DIR.parent.joinpath(\"data\", \"raw\")  # Directorio objetivo\n",
    "\n",
    "DATA_DIR.exists()  # Revisa si el directorio existe\n",
    "DATA_DIR.is_dir()  # Revisa si es un directorio"
   ]
  },
  {
   "attachments": {},
   "cell_type": "markdown",
   "metadata": {},
   "source": [
    "Utiliza el método “parent” para obtener el directorio padre y de ahí concatenar el path de las carpetas “data” y “raw”.\n",
    "\n",
    "Puedes crear una carpeta dentro de un directorio, usando el método “mkdir”:"
   ]
  },
  {
   "cell_type": "code",
   "execution_count": null,
   "metadata": {},
   "outputs": [],
   "source": [
    "DATA_DIR.joinpath(\"<nombre_carpeta>\").mkdir()"
   ]
  },
  {
   "attachments": {},
   "cell_type": "markdown",
   "metadata": {},
   "source": [
    "Para buscar la ruta de un archivo dentro del proyecto, usando regex:"
   ]
  },
  {
   "cell_type": "code",
   "execution_count": null,
   "metadata": {},
   "outputs": [],
   "source": [
    "list(DATA_DIR.glob(\"<nombre_archivo>\"))"
   ]
  },
  {
   "attachments": {},
   "cell_type": "markdown",
   "metadata": {},
   "source": [
    "Crear la ruta “./data/raw/” independiente del sistema operativo. Ahora usaremos PyFilesystem2."
   ]
  },
  {
   "cell_type": "code",
   "execution_count": null,
   "metadata": {},
   "outputs": [],
   "source": [
    "import fs\n",
    "\n",
    "fs.open_fs(\".\")  # Abre una conexión con el path actual (OSFS)\n",
    "\n",
    "CURRENT_DIR = fs.open_fs(\".\")\n",
    "\n",
    "CURRENT_DIR.exists(\".\")  # Revisa si el directorio existe\n",
    "DATA_DIR.listdir(\".\")  # Muestra el contenido dentro de la ruta."
   ]
  },
  {
   "attachments": {},
   "cell_type": "markdown",
   "metadata": {},
   "source": [
    "PyFilesystem2 genera un objeto OSFS (Operating System Filesystem).\n",
    "\n",
    "El inconveniente con este módulo es que el objeto OSFS solo detecta los objetos que existen en la ruta actual, por lo que si intentas acceder a un archivo ubicado en el directorio padre “…” te saltará un IndexError.\n",
    "\n",
    "Si necesitas que el objeto OSFS también detecte el directorio padre, además de las carpetas “data” y “raw”, vuelve a generar el objeto de la siguiente forma:"
   ]
  },
  {
   "cell_type": "code",
   "execution_count": null,
   "metadata": {},
   "outputs": [],
   "source": [
    "fs.open_fs(\"../data/raw/\")  # Ruta objetivo"
   ]
  },
  {
   "cell_type": "code",
   "execution_count": null,
   "metadata": {},
   "outputs": [],
   "source": [
    "for path in DATA_DIR.walk.files():\n",
    "    print(path)\n",
    "\n",
    "    with DATA_DIR.open(path) as data_file:\n",
    "        print(data_file.read())\n",
    "\n",
    "for path in DATA_DIR.walk.dirs():\n",
    "    print(path)\n",
    "#\n",
    "DATA_DIR.makedir(\"external_fs\",recreate=True)\n",
    "#\n",
    "sub_data_dir = DATA_DIR.makedirs(\"external_fs/fs/nested\", recreate=True)\n",
    "sub_data_dir.makedir(\"test\")"
   ]
  },
  {
   "attachments": {},
   "cell_type": "markdown",
   "metadata": {},
   "source": [
    "#  PyProjRoot:\n",
    "\n",
    "Necesitamos encontrar una forma de evitar que nuestro proyecto se rompa cuando movamos de lugar un archivo dentro del proyecto, para esto usaremos Referencias Relativas."
   ]
  },
  {
   "cell_type": "code",
   "execution_count": null,
   "metadata": {},
   "outputs": [],
   "source": [
    "import pyprojroot\n",
    "\n",
    "pyprojroot.here()  # Esto es un Posix Path (pathlib)\n",
    "pyprojroot.here().joinpath(\"data\", \"raw\") "
   ]
  },
  {
   "attachments": {},
   "cell_type": "markdown",
   "metadata": {},
   "source": [
    "* El path en pyprojroot se construye desde la raíz, no desde el path del archivo que lo ejecuta.\n",
    "* Puedes mover el archivo a cualquier parte de la carpeta del proyecto, pero los paths no se romperán."
   ]
  },
  {
   "attachments": {},
   "cell_type": "markdown",
   "metadata": {},
   "source": [
    "# Usando PyHere:"
   ]
  },
  {
   "cell_type": "code",
   "execution_count": null,
   "metadata": {},
   "outputs": [],
   "source": [
    "import pyhere\n",
    "\n",
    "pyhere.here()  # También regresa un Posix Path"
   ]
  },
  {
   "attachments": {},
   "cell_type": "markdown",
   "metadata": {},
   "source": [
    "El directorio que regresa es el directorio padre del directorio actual.\n",
    "\n",
    "Estas dos líneas de código regresan el mismo resultado:"
   ]
  },
  {
   "cell_type": "code",
   "execution_count": null,
   "metadata": {},
   "outputs": [],
   "source": [
    "pyprojroot.here(\"data\").joinpath(\"raw\")\n",
    "pyhere.here().resolve() / \"data\" / \"raw\""
   ]
  },
  {
   "attachments": {},
   "cell_type": "markdown",
   "metadata": {},
   "source": [
    "Estas dos librerías sirven para crear shortcuts. Para esto, se puede usar la siguiente función:"
   ]
  },
  {
   "cell_type": "code",
   "execution_count": null,
   "metadata": {},
   "outputs": [],
   "source": [
    "def make_dir_function(dir_name):\n",
    "    def dir_function(*args):\n",
    "        return pyprojroot.here().joinpath(dir_name, *args)\n",
    "    return dir_function\n",
    "\n",
    "\n",
    "data_dir = make_dir_function(\"data\")\n",
    "data_dir(\"raw\", \"pathlib\")  # Devuelve el path personalizado"
   ]
  },
  {
   "attachments": {},
   "cell_type": "markdown",
   "metadata": {},
   "source": [
    "Puedes crear la cantidad de shortcuts que tu proyecto necesite."
   ]
  },
  {
   "attachments": {},
   "cell_type": "markdown",
   "metadata": {},
   "source": [
    "# Instalar el proyecto como un módulo"
   ]
  },
  {
   "cell_type": "code",
   "execution_count": null,
   "metadata": {},
   "outputs": [],
   "source": [
    "!pip install --editable . "
   ]
  },
  {
   "attachments": {},
   "cell_type": "markdown",
   "metadata": {},
   "source": [
    "Para que se reinicie el kernel, cada vez que reimportes los módulos después de hacer un cambio en estos, agrega esto en la primera celda:"
   ]
  },
  {
   "cell_type": "code",
   "execution_count": null,
   "metadata": {},
   "outputs": [],
   "source": [
    "%load_ext autoreload\n",
    "%autoreload 2"
   ]
  },
  {
   "attachments": {},
   "cell_type": "markdown",
   "metadata": {},
   "source": [
    "* El hacer el autoreload te ayuda a externalizar trozos de código en archivos .py, como la creación de gráficos.\n",
    "* Los notebooks son buenos para hacer exploración, pero no para producción."
   ]
  },
  {
   "cell_type": "markdown",
   "metadata": {},
   "source": []
  }
 ],
 "metadata": {
  "kernelspec": {
   "display_name": "Python 3",
   "language": "python",
   "name": "python3"
  },
  "language_info": {
   "name": "python",
   "version": "3.9.6 (tags/v3.9.6:db3ff76, Jun 28 2021, 15:26:21) [MSC v.1929 64 bit (AMD64)]"
  },
  "orig_nbformat": 4,
  "vscode": {
   "interpreter": {
    "hash": "ee472317774406e518b234904aab44f06a1454268401548accc7e5b62ddbbc49"
   }
  }
 },
 "nbformat": 4,
 "nbformat_minor": 2
}
