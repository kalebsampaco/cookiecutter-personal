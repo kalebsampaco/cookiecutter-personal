{
 "cells": [
  {
   "attachments": {},
   "cell_type": "markdown",
   "metadata": {},
   "source": [
    "# instalar cookiecutter\n",
    "\n",
    "\n",
    "* conda config --add channels conda-forge\n",
    "\n",
    "* conda create --name cookiecutter-personal cookiecutter=1.7.3\n",
    "\n",
    "* conda activate cookiecutter\n",
    "\n",
    "* conda env export --from-history --file environment.yml\n",
    "\n",
    "* cookiecutter https://github.com/platzi/curso-entorno-avanzado-ds --checkout cookiecutter-personal-platzi\n",
    "\n",
    "    - You've downloaded C:\\Users\\kaleb\\.cookiecutters\\curso-entorno-avanzado-ds b\n",
    "    efore. Is it okay to delete and re-download it? [yes]: yes\n",
    "    - project_name [Cookiecutter Personal]: cookiecutter testing\n",
    "    - project_slug [cookiecutter_testing]:\n",
    "    - project_author_name [Your name (or your                   organization/company/team)]: kalebs\n",
    "    ampaco\n",
    "    - project_author_email [Yout email (or your organization/company/team)]:\n",
    "    - project_description [A short description of the project.]: prueba de ejerci\n",
    "    cios cookiecutter\n",
    "    - Select project_packages:\n",
    "    1 - All\n",
    "    2 - Minimal\n",
    "    - Choose from 1, 2 [1]: 1\n",
    "    - python_version [3.7]:\n",
    "    - project_version [0.1.0]:"
   ]
  },
  {
   "attachments": {},
   "cell_type": "markdown",
   "metadata": {},
   "source": [
    "# Crear plantillas de proyecto personalizadas\n",
    "\n",
    "* Se crea una carpeta y dentro se escribe la sintaxis de jinja\n",
    "  - {{ cookiecutter.project_slug }} \n",
    "* Se puede crear dentro de esta carpeta un README.md revizar código de variables de cookiecutter\n",
    "* una carpeta de datos (data)\n",
    "* crear archivo environment.yml, ver configuración del archivo\n",
    "  * # conda env create --file environment.yml\n",
    "    name: {{ cookiecutter.project_slug }}\n",
    "    channels:\n",
    "    - anaconda\n",
    "    - conda-forge\n",
    "    - defaults\n",
    "    dependencies:\n",
    "    {% if cookiecutter.project_packages == \"All\" -%}\n",
    "    - fs\n",
    "    - jupyter\n",
    "    - jupyterlab\n",
    "    - pathlib\n",
    "    {% endif -%}\n",
    "    - pip\n",
    "    {% if cookiecutter.project_packages == \"All\" -%}\n",
    "    - pyprojroot\n",
    "    {% endif -%}\n",
    "    - python={{ cookiecutter.python_version }}\n",
    "    - pip:\n",
    "        {% if cookiecutter.project_packages == \"All\" -%}\n",
    "        - pyhere\n",
    "        {% endif -%}\n",
    "\n",
    "* se el archivo cookiecutter.json con los siguientes datos\n",
    "  * {\n",
    "        \"project_title\": \"Cookiecutter Personal\",\n",
    "        \"project_slug\": \"{{ coockiecutter.project_title.lower().replace(\" \", \"_\").replace(\"-\", \"_\") }}\",\n",
    "        \"project_description\": \"Tu primer proyecto con Cookiecutter.\",\n",
    "        \"project_author_name\": \"Tu nombre\",\n",
    "        \"project_packages\": [\"All, Minimal\"],\n",
    "        \"python_version\": \"3.7\"\n",
    "    }\n",
    "\n",
    "* finalmente en la terminal se digita\n",
    "  * conda activate cookiecutter-personal\n",
    "  * cookiecutter .  #Para correr la plantilla que se tiene en el lugar en el que esta ubicado\n",
    "\n"
   ]
  },
  {
   "attachments": {},
   "cell_type": "markdown",
   "metadata": {},
   "source": [
    "## "
   ]
  },
  {
   "attachments": {},
   "cell_type": "markdown",
   "metadata": {},
   "source": [
    "# Implementar hooks\n",
    "\n",
    "* Se crea la carpeta “hooks”, adentro de la carpeta principal de tu proyecto.\n",
    "* Dentro de la carpeta se agregan los archivos “pre_gen_project.py” (lo que se ejecuta antes de generar la plantilla) y “pos_gen_project.py” (lo que se ejecuta después de generar la plantilla).\n",
    "\n",
    "\n",
    "Por ejemplo, en “pre_gen_project.py” se puede inicializar git o validar nombres y archivos para evitar errores.\n",
    "\n",
    "En el archivo “pos_gen_project.py” se puede hacer el primer commit en git o mostrar la finalización de la instalación de dependencias."
   ]
  },
  {
   "cell_type": "markdown",
   "metadata": {},
   "source": []
  }
 ],
 "metadata": {
  "kernelspec": {
   "display_name": "Python 3",
   "language": "python",
   "name": "python3"
  },
  "language_info": {
   "name": "python",
   "version": "3.9.6 (tags/v3.9.6:db3ff76, Jun 28 2021, 15:26:21) [MSC v.1929 64 bit (AMD64)]"
  },
  "orig_nbformat": 4,
  "vscode": {
   "interpreter": {
    "hash": "ee472317774406e518b234904aab44f06a1454268401548accc7e5b62ddbbc49"
   }
  }
 },
 "nbformat": 4,
 "nbformat_minor": 2
}
